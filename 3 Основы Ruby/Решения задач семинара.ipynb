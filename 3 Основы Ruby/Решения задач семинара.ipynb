{
 "cells": [
  {
   "cell_type": "markdown",
   "metadata": {},
   "source": [
    "### 0\n",
    "\n",
    "Вычислить значение выражения\n",
    "\n",
    "![formula1](https://render.githubusercontent.com/render/math?math=a%20%3D%20%7B%7By%20-%20x%5E2%7D%20%5Cover%20%7Bx%20-%20%7By%7D%20%5Cover%20%7Bb%20%2B%20x%5E2%7D%7D%7D&mode=display)"
   ]
  },
  {
   "cell_type": "code",
   "execution_count": 1,
   "metadata": {},
   "outputs": [
    {
     "data": {
      "text/plain": [
       ":calculate"
      ]
     },
     "execution_count": 1,
     "metadata": {},
     "output_type": "execute_result"
    }
   ],
   "source": [
    "def calculate(b, x, y)\n",
    "  b, x, y = b.to_f, x.to_f, y.to_f\n",
    "  (y - x**2) / ((x - y) / (b + x**2))\n",
    "end"
   ]
  },
  {
   "cell_type": "markdown",
   "metadata": {},
   "source": [
    "Вычислить значение выражения\n",
    "\n",
    "![formula2](https://render.githubusercontent.com/render/math?math=%7Ctg%7B%7Bx%5E2%20%5Ccdot%20%28x%20-%202%29%7D%20%5Cover%20%7Be%5Ex%7D%7D%7C&mode=display)"
   ]
  },
  {
   "cell_type": "code",
   "execution_count": 2,
   "metadata": {},
   "outputs": [
    {
     "data": {
      "text/plain": [
       ":calculate_with_math"
      ]
     },
     "execution_count": 2,
     "metadata": {},
     "output_type": "execute_result"
    }
   ],
   "source": [
    "include Math\n",
    "\n",
    "def calculate_with_math(x)\n",
    "  x = x.to_f\n",
    "  Math.tan(x**2 * (x - 2) / Math.exp(x)).abs\n",
    "end"
   ]
  },
  {
   "cell_type": "markdown",
   "metadata": {},
   "source": [
    "### 1\n",
    "\n",
    "Написать функцию, которая принимает на вход строку и возвращает ее палиндром (переворачивает строку). Пример работы:\n",
    "\n",
    "```ruby\n",
    "get_palindrome '123' # '321'\n",
    "```"
   ]
  },
  {
   "cell_type": "code",
   "execution_count": 3,
   "metadata": {},
   "outputs": [
    {
     "data": {
      "text/plain": [
       ":get_palindrome"
      ]
     },
     "execution_count": 3,
     "metadata": {},
     "output_type": "execute_result"
    }
   ],
   "source": [
    "def get_palindrome str\n",
    "  str.reverse\n",
    "end"
   ]
  },
  {
   "cell_type": "code",
   "execution_count": 4,
   "metadata": {},
   "outputs": [
    {
     "data": {
      "text/plain": [
       "\"321\""
      ]
     },
     "execution_count": 4,
     "metadata": {},
     "output_type": "execute_result"
    }
   ],
   "source": [
    "get_palindrome '123'"
   ]
  },
  {
   "cell_type": "markdown",
   "metadata": {},
   "source": [
    "### 2\n",
    "\n",
    "Написать функцию, которая принимает на вход строку и проверяет, является ли она палиндромом. Пример работы:\n",
    "\n",
    "```ruby\n",
    "palindrome? '123' # false\n",
    "palindrome? '111' # true\n",
    "```"
   ]
  },
  {
   "cell_type": "code",
   "execution_count": 5,
   "metadata": {},
   "outputs": [
    {
     "data": {
      "text/plain": [
       ":palindrome?"
      ]
     },
     "execution_count": 5,
     "metadata": {},
     "output_type": "execute_result"
    }
   ],
   "source": [
    "def palindrome? str\n",
    "  str == str.reverse\n",
    "end"
   ]
  },
  {
   "cell_type": "code",
   "execution_count": 6,
   "metadata": {},
   "outputs": [
    {
     "data": {
      "text/plain": [
       "false"
      ]
     },
     "execution_count": 6,
     "metadata": {},
     "output_type": "execute_result"
    }
   ],
   "source": [
    "palindrome? '123'"
   ]
  },
  {
   "cell_type": "code",
   "execution_count": 7,
   "metadata": {},
   "outputs": [
    {
     "data": {
      "text/plain": [
       "true"
      ]
     },
     "execution_count": 7,
     "metadata": {},
     "output_type": "execute_result"
    }
   ],
   "source": [
    "palindrome? '111'"
   ]
  },
  {
   "cell_type": "markdown",
   "metadata": {},
   "source": [
    "### 3\n",
    "\n",
    "Написать функцию, которая принимает на вход массив и меняет в нем местами наибольший и наименьший элементы. Если в массиве больше одного наибольшего/наименьшего элемента, поменять местами только первую (по счету, т.е. с наименьшими индексами) пару. Пример работы:\n",
    "\n",
    "```ruby\n",
    "swap [1, 2, 3, 2] # [3, 2, 1, 2]\n",
    "swap [1, 2, 1, 2, 5, 10, 10] # [10, 2, 1, 2, 5, 1, 10]\n",
    "```"
   ]
  },
  {
   "cell_type": "code",
   "execution_count": 8,
   "metadata": {},
   "outputs": [
    {
     "data": {
      "text/plain": [
       ":swap"
      ]
     },
     "execution_count": 8,
     "metadata": {},
     "output_type": "execute_result"
    }
   ],
   "source": [
    "def swap ary\n",
    "  first_min_idx = ary.index ary.min\n",
    "  first_max_idx = ary.index ary.max\n",
    "  \n",
    "  ary[first_min_idx], ary[first_max_idx] = ary[first_max_idx], ary[first_min_idx]\n",
    "  \n",
    "  ary\n",
    "end"
   ]
  },
  {
   "cell_type": "code",
   "execution_count": 9,
   "metadata": {},
   "outputs": [
    {
     "data": {
      "text/plain": [
       "[3, 2, 1, 2]"
      ]
     },
     "execution_count": 9,
     "metadata": {},
     "output_type": "execute_result"
    }
   ],
   "source": [
    "swap [1, 2, 3, 2]"
   ]
  },
  {
   "cell_type": "code",
   "execution_count": 10,
   "metadata": {},
   "outputs": [
    {
     "data": {
      "text/plain": [
       "[10, 2, 1, 2, 5, 1, 10]"
      ]
     },
     "execution_count": 10,
     "metadata": {},
     "output_type": "execute_result"
    }
   ],
   "source": [
    "swap [1, 2, 1, 2, 5, 10, 10]"
   ]
  },
  {
   "cell_type": "markdown",
   "metadata": {},
   "source": [
    "### 4\n",
    "\n",
    "Написать функцию, которая принимает на вход массив и считает сумму квадратов его элементов. Пример работы:\n",
    "\n",
    "```ruby\n",
    "square_ary [1, 2, 3] # [1, 4, 9]\n",
    "```"
   ]
  },
  {
   "cell_type": "code",
   "execution_count": 11,
   "metadata": {},
   "outputs": [
    {
     "data": {
      "text/plain": [
       ":square_ary"
      ]
     },
     "execution_count": 11,
     "metadata": {},
     "output_type": "execute_result"
    }
   ],
   "source": [
    "def square_ary ary\n",
    "  ary.map { |x| x**2 }\n",
    "end"
   ]
  },
  {
   "cell_type": "code",
   "execution_count": 12,
   "metadata": {},
   "outputs": [
    {
     "data": {
      "text/plain": [
       "[1, 4, 9]"
      ]
     },
     "execution_count": 12,
     "metadata": {},
     "output_type": "execute_result"
    }
   ],
   "source": [
    "square_ary [1, 2, 3]"
   ]
  },
  {
   "cell_type": "markdown",
   "metadata": {},
   "source": [
    "### 5\n",
    "\n",
    "Написать функцию, которая принимает на вход число в десятичной системе счисления. Внутри себя она переводит это число в двоичную систему счисления, записывает его наоборот и возвращает получившееся число в десятичной системе счисления. Пример работы:\n",
    "\n",
    "```ruby\n",
    "binary_reverse 6 # 3, т.к. 6 (110) => 3 (011)\n",
    "binary_reverse 10 # 5, т.к. 10 (1010) => 5 (0101)\n",
    "```"
   ]
  },
  {
   "cell_type": "code",
   "execution_count": 13,
   "metadata": {},
   "outputs": [
    {
     "data": {
      "text/plain": [
       ":binary_reverse"
      ]
     },
     "execution_count": 13,
     "metadata": {},
     "output_type": "execute_result"
    }
   ],
   "source": [
    "def binary_reverse number\n",
    "  number.to_s(2).reverse.to_i(2)\n",
    "end"
   ]
  },
  {
   "cell_type": "code",
   "execution_count": 14,
   "metadata": {},
   "outputs": [
    {
     "data": {
      "text/plain": [
       "3"
      ]
     },
     "execution_count": 14,
     "metadata": {},
     "output_type": "execute_result"
    }
   ],
   "source": [
    "binary_reverse 6"
   ]
  },
  {
   "cell_type": "code",
   "execution_count": 15,
   "metadata": {},
   "outputs": [
    {
     "data": {
      "text/plain": [
       "5"
      ]
     },
     "execution_count": 15,
     "metadata": {},
     "output_type": "execute_result"
    }
   ],
   "source": [
    "binary_reverse 10"
   ]
  },
  {
   "cell_type": "markdown",
   "metadata": {},
   "source": [
    "### 6\n",
    "\n",
    "Написать функцию, которая принимает на вход строку и переставляет в ней слова в порядке убывания их длины.\n",
    "\n",
    "```ruby\n",
    "change_order 'Зато все ок' # 'ок все Зато'\n",
    "```"
   ]
  },
  {
   "cell_type": "code",
   "execution_count": 24,
   "metadata": {},
   "outputs": [
    {
     "data": {
      "text/plain": [
       ":change_order"
      ]
     },
     "execution_count": 24,
     "metadata": {},
     "output_type": "execute_result"
    }
   ],
   "source": [
    "def change_order str\n",
    "  str.split.sort{ |x, y| x.length <=> y.length }.join ' '\n",
    "end"
   ]
  },
  {
   "cell_type": "code",
   "execution_count": 25,
   "metadata": {},
   "outputs": [
    {
     "data": {
      "text/plain": [
       "\"ок все Зато\""
      ]
     },
     "execution_count": 25,
     "metadata": {},
     "output_type": "execute_result"
    }
   ],
   "source": [
    "change_order 'Зато все ок'"
   ]
  },
  {
   "cell_type": "code",
   "execution_count": null,
   "metadata": {},
   "outputs": [],
   "source": []
  }
 ],
 "metadata": {
  "kernelspec": {
   "display_name": "Ruby 2.5.1",
   "language": "ruby",
   "name": "ruby"
  },
  "language_info": {
   "file_extension": ".rb",
   "mimetype": "application/x-ruby",
   "name": "ruby",
   "version": "2.5.1"
  }
 },
 "nbformat": 4,
 "nbformat_minor": 2
}
