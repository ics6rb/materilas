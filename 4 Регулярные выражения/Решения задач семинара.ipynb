{
 "cells": [
  {
   "cell_type": "markdown",
   "metadata": {},
   "source": [
    "Дана последовательность строк. Каждая строка состоит из слов, разделенных пробелами. Написать программу, обеспечивающую ввод строк и\n",
    "их корректировку. Корректировка заключается в удалении лишних пробелов и слов, состоящих из одного символа. Лишними считаются пробелы\n",
    "в начале и конце строки, а также более одного пробела между словами.\n",
    "Вывести на печать исходную и скорректированную последовательности\n",
    "строк."
   ]
  },
  {
   "cell_type": "code",
   "execution_count": 6,
   "metadata": {},
   "outputs": [
    {
     "data": {
      "text/plain": [
       ":adjust_string"
      ]
     },
     "execution_count": 6,
     "metadata": {},
     "output_type": "execute_result"
    }
   ],
   "source": [
    "def adjust_string(string)\n",
    "  string.split.reject { |item| item.length <= 1 }.join ' '\n",
    "end"
   ]
  },
  {
   "cell_type": "code",
   "execution_count": 7,
   "metadata": {},
   "outputs": [
    {
     "data": {
      "text/plain": [
       "\"df\""
      ]
     },
     "execution_count": 7,
     "metadata": {},
     "output_type": "execute_result"
    }
   ],
   "source": [
    "adjust_string '    df      f      '"
   ]
  },
  {
   "cell_type": "code",
   "execution_count": 10,
   "metadata": {},
   "outputs": [
    {
     "data": {
      "text/plain": [
       "\"Привет, как дела?\""
      ]
     },
     "execution_count": 10,
     "metadata": {},
     "output_type": "execute_result"
    }
   ],
   "source": [
    "adjust_string '    а Привет, как дела?    f      '"
   ]
  },
  {
   "cell_type": "markdown",
   "metadata": {},
   "source": [
    "С клавиатуры вводится две строки: в первой — слова, разделенные\n",
    "пробелами, во второй — числа, разделенные пробелами. Написать, программу, обеспечивающую ввод строк и их корректировку. Корректировка заключается в следующем. Каждому слову из первой строки ставится\n",
    "в соответствие число из второй, их соответствие определяется порядковым номером (первое слово — первое число, второе слово — второе число и т.д.). Числа представляют желаемую длину слов. Если длина слова больше желаемой, сократить длину слова до желаемой длины, если\n",
    "меньше или равна — оставить без изменений. Вывести скорректированную строку. Пример: Ввод: Мама мыла раму 2 2 10 Результат: Ма мы\n",
    "раму Указание: при выполнении задания рекомендуется использовать\n",
    "метод Arrayzip."
   ]
  },
  {
   "cell_type": "code",
   "execution_count": 16,
   "metadata": {},
   "outputs": [
    {
     "data": {
      "text/plain": [
       ":shorten_string"
      ]
     },
     "execution_count": 16,
     "metadata": {},
     "output_type": "execute_result"
    }
   ],
   "source": [
    "def shorten_string(string, lengths)\n",
    "  string.split.zip(lengths).map do |word, len|\n",
    "    word[0...len]\n",
    "  end.join ' '\n",
    "end"
   ]
  },
  {
   "cell_type": "code",
   "execution_count": 17,
   "metadata": {},
   "outputs": [
    {
     "data": {
      "text/plain": [
       "\"Ма м раму\""
      ]
     },
     "execution_count": 17,
     "metadata": {},
     "output_type": "execute_result"
    }
   ],
   "source": [
    "string = 'Мама мыла раму'\n",
    "lengths = '2 1 100'\n",
    "\n",
    "lengths = lengths.split.map &:to_i\n",
    "\n",
    "shorten_string string, lengths"
   ]
  },
  {
   "cell_type": "markdown",
   "metadata": {},
   "source": [
    "Дана последовательность строк. Каждая строка состоит из слов, разделенных пробелами. Написать программу, обеспечивающую ввод строк и\n",
    "их обработку. Обработка заключается в следующем. Для каждой строки посчитать количество присутствующих во всех ее словах символов\n",
    "(\"схожесть\"). Вывести строки в порядке уменьшения значения \"схожести\". Вывод организовать в виде \"строка \"схожесть\"."
   ]
  },
  {
   "cell_type": "code",
   "execution_count": 19,
   "metadata": {},
   "outputs": [
    {
     "data": {
      "text/plain": [
       ":sort_with_similarity"
      ]
     },
     "execution_count": 19,
     "metadata": {},
     "output_type": "execute_result"
    }
   ],
   "source": [
    "def compute_similarity(string)\n",
    "  Set.new(string.split '').length\n",
    "end\n",
    "\n",
    "def sort_with_similarity(strings)\n",
    "  strings.map { |string| [string, compute_similarity(string)] }.sort_by { |pair| -pair[1] }\n",
    "end"
   ]
  },
  {
   "cell_type": "code",
   "execution_count": 20,
   "metadata": {},
   "outputs": [
    {
     "data": {
      "text/plain": [
       "[[\"Мама мыла раму\", 8], [\"112 12 12\", 3], [\"111 111 111\", 2]]"
      ]
     },
     "execution_count": 20,
     "metadata": {},
     "output_type": "execute_result"
    }
   ],
   "source": [
    "strings = [\n",
    "  '111 111 111',\n",
    "  '112 12 12',\n",
    "  'Мама мыла раму'\n",
    "]\n",
    "\n",
    "sort_with_similarity strings"
   ]
  },
  {
   "cell_type": "markdown",
   "metadata": {},
   "source": [
    "Дана последовательность строк. Каждая строка состоит из слов, разделенных пробелами. Написать программу, обеспечивающую ввод строк и\n",
    "их корректировку. Корректировка заключается в следующем: если среди\n",
    "слов строки обнаруживаются слова, заключенные в символ #, заменить\n",
    "их словами, введенными с клавиатуры. Вывести на печать исходную и\n",
    "скорректированную последовательности строк."
   ]
  },
  {
   "cell_type": "code",
   "execution_count": 31,
   "metadata": {},
   "outputs": [
    {
     "data": {
      "text/plain": [
       ":replace"
      ]
     },
     "execution_count": 31,
     "metadata": {},
     "output_type": "execute_result"
    }
   ],
   "source": [
    "def replace string, replacer\n",
    "  string.gsub(/#.*?#/, replacer)\n",
    "end"
   ]
  },
  {
   "cell_type": "code",
   "execution_count": 32,
   "metadata": {},
   "outputs": [
    {
     "data": {
      "text/plain": [
       "\"Я хочу заменить широкую на широкую\""
      ]
     },
     "execution_count": 32,
     "metadata": {},
     "output_type": "execute_result"
    }
   ],
   "source": [
    "replace 'Я хочу заменить #это# на ##', 'широкую'"
   ]
  },
  {
   "cell_type": "markdown",
   "metadata": {},
   "source": [
    "Дана последовательность строк. Каждая строка состоит из слов, разделенных пробелами. Написать программу, обеспечивающую ввод строк\n",
    "и их корректировку. Корректировка заключается в удалении или замене\n",
    "слов. Если слово стоит на четном месте и начинается на букву «е» — оно\n",
    "удаляется; если слово стоит на четном месте и начинается на букву «с»,\n",
    "оно замещается на слово, введенное с клавиатуры. Вывести на печать\n",
    "исходную и скорректированную последовательности строк.\n",
    "\n",
    "**Нумерация с 0, 0 четный**"
   ]
  },
  {
   "cell_type": "code",
   "execution_count": 62,
   "metadata": {},
   "outputs": [
    {
     "data": {
      "text/plain": [
       ":make_change"
      ]
     },
     "execution_count": 62,
     "metadata": {},
     "output_type": "execute_result"
    }
   ],
   "source": [
    "def make_change string, replacer\n",
    "  string.split.each_with_index.map do |word, index|\n",
    "    if index.even? && word.start_with?('e')\n",
    "      nil\n",
    "    elsif index.even? && word.start_with?('c')\n",
    "      replacer\n",
    "    else\n",
    "      word\n",
    "    end\n",
    "  end.join(' ').strip\n",
    "end"
   ]
  },
  {
   "cell_type": "code",
   "execution_count": 63,
   "metadata": {},
   "outputs": [
    {
     "data": {
      "text/plain": [
       "\"оставить !!! оставить оставить\""
      ]
     },
     "execution_count": 63,
     "metadata": {},
     "output_type": "execute_result"
    }
   ],
   "source": [
    "make_change 'eудалить оставить cзаменить оставить оставить', '!!!'"
   ]
  },
  {
   "cell_type": "markdown",
   "metadata": {},
   "source": [
    "Дана последовательность строк. Каждая строка состоит из слов, разделенных пробелами. Написать программу, обеспечивающую ввод строк\n",
    "и их корректировку. Корректировка заключается в замене у всех слов,\n",
    "которые оканчиваются на сочетание «ing», заменить это окончание сочетанием «ed». Вывести на печать исходную и скорректированную последовательности строк."
   ]
  },
  {
   "cell_type": "code",
   "execution_count": 48,
   "metadata": {},
   "outputs": [
    {
     "data": {
      "text/plain": [
       ":change_ing"
      ]
     },
     "execution_count": 48,
     "metadata": {},
     "output_type": "execute_result"
    }
   ],
   "source": [
    "def change_ing string\n",
    "  string.gsub /ing\\b/, 'ed'\n",
    "end"
   ]
  },
  {
   "cell_type": "code",
   "execution_count": 49,
   "metadata": {},
   "outputs": [
    {
     "data": {
      "text/plain": [
       "\"singed skated dead\""
      ]
     },
     "execution_count": 49,
     "metadata": {},
     "output_type": "execute_result"
    }
   ],
   "source": [
    "change_ing 'singing skating dead'"
   ]
  },
  {
   "cell_type": "markdown",
   "metadata": {},
   "source": [
    "Дана последовательность строк. Каждая строка состоит из слов, разделенных пробелами. Написать программу, обеспечивающую ввод строк и\n",
    "их корректировку. Корректировка заключается в следующем. В каждой\n",
    "строке вычеркнуть все слова, не содержащие гласных букв и подсчитать количество таких слов. Если среди слов строки нет таких слов, то\n",
    "вывести сообщение. Вывести на печать исходную и скорректированную\n",
    "последовательности строк и полученное количество искомых слов."
   ]
  },
  {
   "cell_type": "code",
   "execution_count": 59,
   "metadata": {},
   "outputs": [
    {
     "data": {
      "text/plain": [
       ":great_leveler"
      ]
     },
     "execution_count": 59,
     "metadata": {},
     "output_type": "execute_result"
    }
   ],
   "source": [
    "def great_leveler string\n",
    "  words = string.split\n",
    "  filtered = words.grep /[aeiouy]+/i\n",
    "  [words.length - filtered.length, filtered.join(' ')]\n",
    "end"
   ]
  },
  {
   "cell_type": "code",
   "execution_count": 61,
   "metadata": {},
   "outputs": [
    {
     "name": "stdout",
     "output_type": "stream",
     "text": [
      "3\n",
      "\"great nice good cool\"\n"
     ]
    },
    {
     "data": {
      "text/plain": [
       "[3, \"great nice good cool\"]"
      ]
     },
     "execution_count": 61,
     "metadata": {},
     "output_type": "execute_result"
    }
   ],
   "source": [
    "num_words_without_vowels, words = great_leveler 'great nice ggg good cool sss ttt'\n",
    "p num_words_without_vowels, words"
   ]
  }
 ],
 "metadata": {
  "kernelspec": {
   "display_name": "Ruby 2.5.1",
   "language": "ruby",
   "name": "ruby"
  },
  "language_info": {
   "file_extension": ".rb",
   "mimetype": "application/x-ruby",
   "name": "ruby",
   "version": "2.5.1"
  }
 },
 "nbformat": 4,
 "nbformat_minor": 2
}
